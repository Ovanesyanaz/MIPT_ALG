{
 "cells": [
  {
   "cell_type": "markdown",
   "id": "a786f55f-a192-411b-925d-e4af2fe91a9b",
   "metadata": {},
   "source": [
    "<div align=center>\n",
    "    <font size=6>\n",
    "        <b> Contest #1 BFS/DFS </b>\n",
    "    </font>\n",
    "</div>\n",
    "\n",
    "___\n",
    "\n",
    "<div align=center>\n",
    "    <font size=5>\n",
    "        <b> Problem #1. Adjacency list </b>\n",
    "    </font>\n",
    "</div>\n",
    "\n",
    "\\\n",
    "\\\n",
    "Для удобства работы с графом - его необходимо как-то хранить.\\\n",
    "В случае когда количество ребер исходящих из вершины сильно меньше общего количества вершин принять использовать списки смежности.\\\n",
    "**Список смежности** - один из способов представления графа в виде коллекции списков вершин. Каждой вершине графа соответствует список, состоящий из «соседей» этой вершины.\\\n",
    "\\\n",
    "**Формат ввода**\\\n",
    "В первой строке записано два натуральных числа через пробле V - количество вершин, E - количество ребер.\\\n",
    "В последующих E строках - два натуральных числа S<sub>i</sub>, D<sub>i</sub> через пробел, обозначающих не направленое ребро.\\\n",
    "\\\n",
    "**Формат вывода**\\\n",
    "V строк, где номер строки соответсвует номеру вершины, а в строке в порядке возрастания перечислены номера вершин смежных с текущей, в случае если смежных вершин нет - необходимо вывести `-`."
   ]
  },
  {
   "cell_type": "code",
   "execution_count": 3,
   "id": "56c37dae-c48b-4372-9f80-226b7e2fbea6",
   "metadata": {},
   "outputs": [],
   "source": [
    "v = 15\n",
    "edges = [\n",
    "        (1, 3), (1, 2), (1, 4), (2, 5), (2, 6), (5, 9),\n",
    "        (5, 10), (4, 7), (4, 8), (7, 11), (7, 12)\n",
    "        # vertex 0, 13, and 14 are single nodes\n",
    "    ]"
   ]
  },
  {
   "cell_type": "code",
   "execution_count": 9,
   "id": "8a380480",
   "metadata": {},
   "outputs": [
    {
     "name": "stdout",
     "output_type": "stream",
     "text": [
      "[[], [2, 3, 4], [1, 5, 6], [1], [1, 7, 8], [2, 9, 10], [2], [4, 11, 12], [4], [5], [5], [7], [7], [], []]\n"
     ]
    }
   ],
   "source": [
    "def to_adj():\n",
    "    n,m = map(int, input().split())\n",
    "    edges = []\n",
    "    for i in range(m):\n",
    "        edges.append(list(map(int, input().split())))\n",
    "    a = [[] for i in range(n)]\n",
    "    for i in edges:\n",
    "        a[i[0]].append(i[1])\n",
    "        a[i[1]].append(i[0])\n",
    "    for i in range(len(a)):\n",
    "        a[i].sort()\n",
    "    return a\n",
    "print(to_adj())"
   ]
  },
  {
   "cell_type": "raw",
   "id": "115d4f16-cde2-4d68-b404-f63bc4bd96af",
   "metadata": {},
   "source": [
    "-\n",
    "2 3 4\n",
    "1 5 6\n",
    "1\n",
    "1 7 8\n",
    "2 9 10\n",
    "2\n",
    "4 11 12\n",
    "4\n",
    "5\n",
    "5\n",
    "7\n",
    "7\n",
    "-\n",
    "-"
   ]
  },
  {
   "cell_type": "markdown",
   "id": "88bf4395-eee5-4067-8987-2c2300da7061",
   "metadata": {},
   "source": [
    "\n",
    "___\n",
    "\n",
    "<div align=center>\n",
    "    <font size=5>\n",
    "        <b> Problem #2. Depth First Search </b>\n",
    "    </font>\n",
    "</div>\n",
    "\n",
    "\\\n",
    "\\\n",
    "Используя список смежности, полученный в прошлой задаче отобразите \"историю обхода в глубину\" для заданного графа.\\\n",
    "\\\n",
    "**Формат ввода**\\\n",
    "В первой строке записано два натуральных числа через пробле V - количество вершин, E - количество ребер.\\\n",
    "В последующих E строках - два натуральных числа S<sub>i</sub>, D<sub>i</sub> через пробел, обозначающих не направленое ребро.\\\n",
    "\\\n",
    "**Формат вывода**\\\n",
    "Номера вершин в порядке обхода, начиная с первой (1) вершины.\\\n",
    "\\\n",
    "**Примечание**\\\n",
    "В случае если списки смежности не будут отсортированны - обход в глубину может выдавать неверный ответ.\\\n",
    "Подобные решения будут обрабатываться вручную."
   ]
  },
  {
   "cell_type": "code",
   "execution_count": 5,
   "id": "f822e5be-ecf5-4d68-8e13-8c705fc2ec1b",
   "metadata": {},
   "outputs": [],
   "source": [
    "edges = [\n",
    "    (1, 2), (1, 3), (1, 4), (2, 5), (2, 6), (5, 9),\n",
    "    (5, 10), (4, 7), (4, 8), (7, 11), (7, 12)\n",
    "]\n",
    "\n",
    "v = 15"
   ]
  },
  {
   "cell_type": "code",
   "execution_count": 10,
   "id": "04acd84a",
   "metadata": {},
   "outputs": [
    {
     "name": "stdout",
     "output_type": "stream",
     "text": [
      "[-1, -1, -1, -1, -1, -1, -1, -1, -1, -1]\n"
     ]
    }
   ],
   "source": [
    "print([-1] * 10)"
   ]
  },
  {
   "cell_type": "code",
   "execution_count": 26,
   "id": "7531d314",
   "metadata": {},
   "outputs": [
    {
     "name": "stdout",
     "output_type": "stream",
     "text": [
      "0 \n",
      "1 2 5 9 10 6 3 4 7 11 12 8 \n",
      "13 \n",
      "14 \n"
     ]
    }
   ],
   "source": [
    "def to_adj(n,m):\n",
    "    \n",
    "    edges = []\n",
    "    for i in range(m):\n",
    "        edges.append(list(map(int, input().split())))\n",
    "    a = [[] for i in range(n)]\n",
    "    for i in edges:\n",
    "        a[i[0]].append(i[1])\n",
    "        a[i[1]].append(i[0])\n",
    "    for i in range(len(a)):\n",
    "        a[i].sort()\n",
    "    return a\n",
    "n,m = map(int, input().split())\n",
    "color = [0] * n\n",
    "numbers = [[] for _ in range(n)]\n",
    "num = 0\n",
    "def dfs(v, adj):\n",
    "    color[v] = 1\n",
    "    numbers[num].append(v)\n",
    "    for i in adj[v]:\n",
    "        if color[i] == 0:\n",
    "            dfs(i, adj)\n",
    "adj = to_adj(n,m)\n",
    "for i in range(n):\n",
    "    if color[i] == 0:\n",
    "        dfs(i, adj)\n",
    "    num += 1\n",
    "for i in numbers:\n",
    "    for j in i:\n",
    "        print(j, end=\" \")\n",
    "    if len(i) != 0:\n",
    "        print()\n"
   ]
  },
  {
   "cell_type": "raw",
   "id": "92a83d0c-f39a-429d-8147-8a1d54ed3549",
   "metadata": {},
   "source": [
    "1 2 5 9 10 6 3 4 7 11 12 8 "
   ]
  },
  {
   "cell_type": "markdown",
   "id": "c653d107-a6f8-47e7-9c68-e087981391d8",
   "metadata": {},
   "source": [
    "\n",
    "___\n",
    "\n",
    "<div align=center>\n",
    "    <font size=5>\n",
    "        <b> Problem #3. Full Depth First Search </b>\n",
    "    </font>\n",
    "</div>\n",
    "\n",
    "\\\n",
    "\\\n",
    "Используя список смежности, полученный в первой задаче, и поиск в глубину, полученный во второй, отобразите \"историю обхода в глубину\" для каждого компонента заданного графа.\\\n",
    "\\\n",
    "**Формат ввода**\\\n",
    "В первой строке записано два натуральных числа через пробле V - количество вершин, E - количество ребер.\\\n",
    "В последующих E строках - два натуральных числа S<sub>i</sub>, D<sub>i</sub> через пробел, обозначающих не направленое ребро.\\\n",
    "\\\n",
    "**Формат вывода**\\\n",
    "Номера вершин в порядке обхода, начиная с нулевой (0) вершины.\\\n",
    "\\\n",
    "**Примечание**\\\n",
    "В случае если списки смежности не будут отсортированны - обход в глубину может выдавать неверный ответ.\\\n",
    "Подобные решения будут обрабатываться вручную."
   ]
  },
  {
   "cell_type": "code",
   "execution_count": 6,
   "id": "632bbde9-f8dd-45cd-9c8e-b199dd56617d",
   "metadata": {},
   "outputs": [],
   "source": [
    "edges = [\n",
    "    (1, 2), (1, 3), (1, 4), (2, 5), (2, 6), (5, 9),\n",
    "    (5, 10), (4, 7), (4, 8), (7, 11), (7, 12)\n",
    "    # vertex 0, 13, and 14 are single nodes\n",
    "]\n",
    "\n",
    "v = 15"
   ]
  },
  {
   "cell_type": "raw",
   "id": "bbcbb1ef-3712-4319-875c-15f4710fd56a",
   "metadata": {},
   "source": [
    "0 \n",
    "1 2 5 9 10 6 3 4 7 11 12 8 \n",
    "13 \n",
    "14"
   ]
  },
  {
   "cell_type": "markdown",
   "id": "8a222b75-b108-4ade-9b91-cae7aeba2eb4",
   "metadata": {},
   "source": [
    "\n",
    "___\n",
    "\n",
    "<div align=center>\n",
    "    <font size=5>\n",
    "        <b> Problem #4. Bipartite graph </b>\n",
    "    </font>\n",
    "</div>\n",
    "\n",
    "\\\n",
    "\\\n",
    "**Двудольный граф** или биграф в теории графов - это граф, вершины которого можно разбить на две части так, что каждое ребро соединяет вершину из одной части с вершиной другой части. То есть, между вершинами одной и той же части рёбра отсутствуют.\n",
    "\n",
    "<div align=center>\n",
    "<img src=\"https://upload.wikimedia.org/wikipedia/commons/thumb/e/e8/Simple-bipartite-graph.svg/330px-Simple-bipartite-graph.svg.png\" alt=\"Двудольный граф\" width=\"400\">\n",
    "</div>\n",
    "\n",
    "**Формат ввода**\\\n",
    "В первой строке записано два натуральных числа через пробле V - количество вершин, E - количество ребер.\\\n",
    "В последующих E строках - два натуральных числа S<sub>i</sub>, D<sub>i</sub> через пробел, обозначающих не направленое ребро.\\\n",
    "\\\n",
    "**Формат вывода**\\\n",
    "`Graph is bipartite`, если граф Двудольный.\\\n",
    "`Graph is not bipartite`, если граф не Двудольный.\\\n",
    "\\\n",
    "**Примечание**\\\n",
    "[Двудольный граф](https://ru.wikipedia.org/wiki/%D0%94%D0%B2%D1%83%D0%B4%D0%BE%D0%BB%D1%8C%D0%BD%D1%8B%D0%B9_%D0%B3%D1%80%D0%B0%D1%84)"
   ]
  },
  {
   "cell_type": "code",
   "execution_count": 8,
   "id": "84419d61-feef-42b2-a5c9-bdbaf4c035b5",
   "metadata": {},
   "outputs": [],
   "source": [
    "edges = [\n",
    "    (0, 1), (1, 2), (1, 7), (2, 3), (3, 5), (4, 6), (4, 8), (7, 8), (1, 3)\n",
    "]\n",
    "\n",
    "v = 9"
   ]
  },
  {
   "cell_type": "code",
   "execution_count": 36,
   "id": "5253af1f",
   "metadata": {},
   "outputs": [
    {
     "ename": "IndexError",
     "evalue": "list index out of range",
     "output_type": "error",
     "traceback": [
      "\u001b[0;31m---------------------------------------------------------------------------\u001b[0m",
      "\u001b[0;31mIndexError\u001b[0m                                Traceback (most recent call last)",
      "Cell \u001b[0;32mIn[36], line 29\u001b[0m\n\u001b[1;32m     27\u001b[0m             flag \u001b[38;5;241m=\u001b[39m \u001b[38;5;28;01mFalse\u001b[39;00m\n\u001b[1;32m     28\u001b[0m     dfs(\u001b[38;5;241m0\u001b[39m, to_adj(n,m), \u001b[38;5;241m1\u001b[39m)\n\u001b[0;32m---> 29\u001b[0m \u001b[38;5;28mprint\u001b[39m(\u001b[43mis_bipartite\u001b[49m\u001b[43m(\u001b[49m\u001b[43mn\u001b[49m\u001b[43m,\u001b[49m\u001b[43m \u001b[49m\u001b[43mto_adj\u001b[49m\u001b[43m(\u001b[49m\u001b[43mn\u001b[49m\u001b[43m,\u001b[49m\u001b[43mm\u001b[49m\u001b[43m)\u001b[49m\u001b[43m)\u001b[49m)\n",
      "Cell \u001b[0;32mIn[36], line 28\u001b[0m, in \u001b[0;36mis_bipartite\u001b[0;34m(n, adj)\u001b[0m\n\u001b[1;32m     26\u001b[0m     \u001b[38;5;28;01melif\u001b[39;00m color[n] \u001b[38;5;241m!=\u001b[39m k:\n\u001b[1;32m     27\u001b[0m         flag \u001b[38;5;241m=\u001b[39m \u001b[38;5;28;01mFalse\u001b[39;00m\n\u001b[0;32m---> 28\u001b[0m dfs(\u001b[38;5;241m0\u001b[39m, \u001b[43mto_adj\u001b[49m\u001b[43m(\u001b[49m\u001b[43mn\u001b[49m\u001b[43m,\u001b[49m\u001b[43mm\u001b[49m\u001b[43m)\u001b[49m, \u001b[38;5;241m1\u001b[39m)\n",
      "Cell \u001b[0;32mIn[36], line 8\u001b[0m, in \u001b[0;36mto_adj\u001b[0;34m(n, m)\u001b[0m\n\u001b[1;32m      6\u001b[0m a \u001b[38;5;241m=\u001b[39m [[] \u001b[38;5;28;01mfor\u001b[39;00m i \u001b[38;5;129;01min\u001b[39;00m \u001b[38;5;28mrange\u001b[39m(n)]\n\u001b[1;32m      7\u001b[0m \u001b[38;5;28;01mfor\u001b[39;00m i \u001b[38;5;129;01min\u001b[39;00m edges:\n\u001b[0;32m----> 8\u001b[0m     a[\u001b[43mi\u001b[49m\u001b[43m[\u001b[49m\u001b[38;5;241;43m0\u001b[39;49m\u001b[43m]\u001b[49m]\u001b[38;5;241m.\u001b[39mappend(i[\u001b[38;5;241m1\u001b[39m])\n\u001b[1;32m      9\u001b[0m     a[i[\u001b[38;5;241m1\u001b[39m]]\u001b[38;5;241m.\u001b[39mappend(i[\u001b[38;5;241m0\u001b[39m])\n\u001b[1;32m     10\u001b[0m \u001b[38;5;28;01mfor\u001b[39;00m i \u001b[38;5;129;01min\u001b[39;00m \u001b[38;5;28mrange\u001b[39m(\u001b[38;5;28mlen\u001b[39m(a)):\n",
      "\u001b[0;31mIndexError\u001b[0m: list index out of range"
     ]
    }
   ],
   "source": [
    "\n",
    "\n",
    "def to_adj(n,m):\n",
    "    edges = []\n",
    "    for i in range(m):\n",
    "        edges.append(list(map(int, input().split())))\n",
    "    a = [[] for i in range(n)]\n",
    "    for i in edges:\n",
    "        a[i[0]].append(i[1])\n",
    "        a[i[1]].append(i[0])\n",
    "    for i in range(len(a)):\n",
    "        a[i].sort()\n",
    "    return a\n",
    "n,m = map(int, input().split())\n",
    "\n",
    "color = [0] * n\n",
    "flag = True\n",
    "\n",
    "def dfs(n, adj, k):\n",
    "    global flag\n",
    "    if color[n] == 0:\n",
    "        color[n] = k\n",
    "        for u in adj[n]:\n",
    "            dfs(u, adj, -k)\n",
    "    elif color[n] != k:\n",
    "        flag = False\n",
    "dfs(0, to_adj(n,m), 1)\n",
    "if flag:\n",
    "    print(\"Graph is bipartite\")\n",
    "else:\n",
    "    print(\"Graph is not bipartite\")\n",
    "    "
   ]
  },
  {
   "cell_type": "raw",
   "id": "61633671-07f7-459e-b809-f0ddcbbfc3b7",
   "metadata": {},
   "source": [
    "Graph is not bipartite"
   ]
  },
  {
   "cell_type": "code",
   "execution_count": 9,
   "id": "4d2f1df4-afa4-45aa-9a1c-576a04998307",
   "metadata": {},
   "outputs": [],
   "source": [
    "edges = [\n",
    "    (0, 1), (1, 2), (1, 7), (2, 3), (3, 5), (4, 6), (4, 8), (7, 8)\n",
    "]\n",
    "\n",
    "v = 9"
   ]
  },
  {
   "cell_type": "raw",
   "id": "6962f20a-517a-4635-b6ac-1120da7047f5",
   "metadata": {},
   "source": [
    "Graph is bipartite"
   ]
  },
  {
   "cell_type": "code",
   "execution_count": null,
   "id": "9de084eb-bea2-4383-be85-05f29c6e881e",
   "metadata": {},
   "outputs": [],
   "source": []
  }
 ],
 "metadata": {
  "kernelspec": {
   "display_name": "Python 3 (ipykernel)",
   "language": "python",
   "name": "python3"
  },
  "language_info": {
   "codemirror_mode": {
    "name": "ipython",
    "version": 3
   },
   "file_extension": ".py",
   "mimetype": "text/x-python",
   "name": "python",
   "nbconvert_exporter": "python",
   "pygments_lexer": "ipython3",
   "version": "3.11.4"
  }
 },
 "nbformat": 4,
 "nbformat_minor": 5
}
